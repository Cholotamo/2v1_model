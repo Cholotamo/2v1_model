{
 "cells": [
  {
   "cell_type": "code",
   "execution_count": 1,
   "metadata": {},
   "outputs": [],
   "source": [
    "import os\n",
    "import numpy as np\n",
    "import librosa\n",
    "from sklearn.preprocessing import StandardScaler"
   ]
  },
  {
   "cell_type": "code",
   "execution_count": 3,
   "metadata": {},
   "outputs": [],
   "source": [
    "# Paths to my audio files\n",
    "healthy_chicken_dir = 'dataset/Healthy'\n",
    "sick_chicken_dir = 'dataset/Sick'\n",
    "noise_dir = 'dataset/None'"
   ]
  },
  {
   "cell_type": "code",
   "execution_count": 10,
   "metadata": {},
   "outputs": [],
   "source": [
    "# Function to extract MFCC features + applying first-order and second-order derivative to get total 39 features\n",
    "# Also includes extracting Chroma features, Spectral Contrast features and Temporal features\n",
    "def extract_features(file_path, n_mfcc=13):\n",
    "    try:\n",
    "        y, sr = librosa.load(file_path, sr=16000)  # Load audio at 16kHz\n",
    "        if y.size == 0:\n",
    "            return None\n",
    "            \n",
    "        # Create an empty list to store all features\n",
    "        features = []\n",
    "        \n",
    "        # 1. Extract MFCC features and their derivatives\n",
    "        mfcc = librosa.feature.mfcc(y=y, sr=sr, n_mfcc=n_mfcc)\n",
    "        delta_mfcc = librosa.feature.delta(mfcc)\n",
    "        delta2_mfcc = librosa.feature.delta(mfcc, order=2)\n",
    "        \n",
    "        features.extend([\n",
    "            np.mean(mfcc, axis=1),        # 13 features\n",
    "            np.std(mfcc, axis=1),         # Add standard deviation for variation\n",
    "            np.mean(delta_mfcc, axis=1),  # 13 features\n",
    "            np.mean(delta2_mfcc, axis=1)  # 13 features\n",
    "        ])\n",
    "        \n",
    "        # 2. Extract Chroma features\n",
    "        # Chroma features represent the 12 different pitch classes\n",
    "        chroma = librosa.feature.chroma_stft(y=y, sr=sr)\n",
    "        features.extend([\n",
    "            np.mean(chroma, axis=1),\n",
    "            np.std(chroma, axis=1)\n",
    "        ])\n",
    "        \n",
    "        # 3. Extract Spectral Contrast\n",
    "        # Spectral contrast represents the difference between peaks and valleys in the spectrum\n",
    "        contrast = librosa.feature.spectral_contrast(y=y, sr=sr)\n",
    "        features.extend([\n",
    "            np.mean(contrast, axis=1),\n",
    "            np.std(contrast, axis=1)\n",
    "        ])\n",
    "        \n",
    "        # 4. Add Temporal Features\n",
    "        # Zero-crossing rate\n",
    "        zcr = librosa.feature.zero_crossing_rate(y)[0]\n",
    "        features.extend([\n",
    "            np.mean(zcr),\n",
    "            np.std(zcr)\n",
    "        ])\n",
    "        \n",
    "        # Root Mean Square Energy\n",
    "        rms = librosa.feature.rms(y=y)[0]\n",
    "        features.extend([\n",
    "            np.mean(rms),\n",
    "            np.std(rms)\n",
    "        ])\n",
    "        \n",
    "        # Spectral Bandwidth\n",
    "        bandwidth = librosa.feature.spectral_bandwidth(y=y, sr=sr)[0]\n",
    "        features.extend([\n",
    "            np.mean(bandwidth),\n",
    "            np.std(bandwidth)\n",
    "        ])\n",
    "        \n",
    "        # Spectral Flatness (measure of how tone-like or noise-like the sound is)\n",
    "        flatness = librosa.feature.spectral_flatness(y=y)[0]\n",
    "        features.extend([\n",
    "            np.mean(flatness),\n",
    "            np.std(flatness)\n",
    "        ])\n",
    "        \n",
    "        # Spectral Rolloff\n",
    "        rolloff = librosa.feature.spectral_rolloff(y=y, sr=sr)[0]\n",
    "        features.extend([\n",
    "            np.mean(rolloff),\n",
    "            np.std(rolloff)\n",
    "        ])\n",
    "        \n",
    "        # Concatenate all features into a single numpy array\n",
    "        return np.concatenate([np.array(f).flatten() for f in features])\n",
    "        \n",
    "    except Exception as e:\n",
    "        print(f\"Error processing {file_path}: {e}\")\n",
    "        return None"
   ]
  },
  {
   "cell_type": "code",
   "execution_count": 11,
   "metadata": {},
   "outputs": [],
   "source": [
    "# Initialize lists for features and labels\n",
    "X_stage_1 = []\n",
    "y_stage_1 = []\n",
    "\n",
    "# Function to process directory\n",
    "def process_directory(directory, label):\n",
    "    for file_name in os.listdir(directory):\n",
    "        file_path = os.path.join(directory, file_name)\n",
    "        features = extract_features(file_path)\n",
    "        if features is not None:\n",
    "            X_stage_1.append(features)\n",
    "            y_stage_1.append(label)"
   ]
  },
  {
   "cell_type": "code",
   "execution_count": 12,
   "metadata": {},
   "outputs": [
    {
     "name": "stdout",
     "output_type": "stream",
     "text": [
      "Features shape: (6000, 39)\n",
      "Labels shape: (6000,)\n"
     ]
    }
   ],
   "source": [
    "# Process all directories\n",
    process_directory(healthy_chicken_dir, 0)
    process_directory(sick_chicken_dir, 1)
    process_directory(noise_dir, 2)
    "\n",
    "# Convert to numpy arrays\n",
    "X_stage_1 = np.array(X_stage_1)\n",
    "y_stage_1 = np.array(y_stage_1)\n",
    "\n",
    "# Normalize features\n",
    "scaler_1 = StandardScaler()\n",
    "X_stage_1 = scaler_1.fit_transform(X_stage_1)\n",
    "\n",
    "# Save features and labels\n",
    "np.save('M1_features.npy', X_stage_1)\n",
    "np.save('M1_labels.npy', y_stage_1)\n",
    "\n",
    "# Verify shapes\n",
    "print(f\"Features shape: {X_stage_1.shape}\")\n",
    "print(f\"Labels shape: {y_stage_1.shape}\")"
   ]
  }
 ],
 "metadata": {
  "kernelspec": {
   "display_name": "ml-env",
   "language": "python",
   "name": "python3"
  },
  "language_info": {
   "codemirror_mode": {
    "name": "ipython",
    "version": 3
   },
   "file_extension": ".py",
   "mimetype": "text/x-python",
   "name": "python",
   "nbconvert_exporter": "python",
   "pygments_lexer": "ipython3",
   "version": "3.12.1"
  }
 },
 "nbformat": 4,
 "nbformat_minor": 2
}